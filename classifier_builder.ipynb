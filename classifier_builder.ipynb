{
 "cells": [
  {
   "cell_type": "code",
   "execution_count": 14,
   "id": "3427db2b",
   "metadata": {},
   "outputs": [],
   "source": [
    "import duckduckgo_search as ddg # Make sure the function name is correctly spelled and capitalized\n",
    "from fastcore.all import *\n",
    "\n",
    "def search_images(term, max_images=200): return L(ddg.DDGS().images(term, max_results=max_images)).itemgot('image')"
   ]
  },
  {
   "cell_type": "code",
   "execution_count": 15,
   "id": "105c87d9",
   "metadata": {},
   "outputs": [],
   "source": [
    "from fastdownload import download_url\n",
    "from fastai.vision.all import *"
   ]
  },
  {
   "cell_type": "code",
   "execution_count": 16,
   "id": "f152d1e8",
   "metadata": {},
   "outputs": [],
   "source": [
    "path = Path('dataset')\n",
    "from time import sleep\n",
    "def collect_data(searches,size):\n",
    "  for o in searches:\n",
    "      dest = (path/o)\n",
    "      dest.mkdir(exist_ok=True, parents=True)\n",
    "      download_images(dest, urls=search_images(f'{o} photo'))\n",
    "      resize_images(path/o, max_size=size, dest=path/o)"
   ]
  },
  {
   "cell_type": "code",
   "execution_count": 19,
   "id": "b314af31",
   "metadata": {},
   "outputs": [],
   "source": [
    "def check_data():\n",
    "    failed = verify_images(get_image_files(path))\n",
    "    failed.map(Path.unlink)"
   ]
  },
  {
   "cell_type": "code",
   "execution_count": 32,
   "id": "b3dc67ac",
   "metadata": {},
   "outputs": [],
   "source": [
    "def set_centered(root,window_width,window_height):\n",
    "    # get the screen dimension\n",
    "    screen_width = root.winfo_screenwidth()\n",
    "    screen_height = root.winfo_screenheight()\n",
    "\n",
    "    # find the center point\n",
    "    center_x = int(screen_width/2 - window_width / 2)\n",
    "    center_y = int(screen_height/2 - window_height / 2)\n",
    "\n",
    "    # set the position of the window to the center of the screen\n",
    "    root.geometry(f'{window_width}x{window_height}+{center_x}+{center_y}')"
   ]
  },
  {
   "cell_type": "code",
   "execution_count": 128,
   "id": "cccd3149",
   "metadata": {},
   "outputs": [],
   "source": [
    "import tkinter as tk\n",
    "from tkinter import filedialog\n",
    "from tkinter import messagebox\n",
    "from PIL import Image, ImageTk\n",
    "\n",
    "class ImageClassifierGUI:\n",
    "    def __init__(self, root):\n",
    "        self.root = root\n",
    "        self.root.title(\"Image Classifier\")\n",
    "        \n",
    "        self.welcome_label = tk.Label(root, text=\"Welcome to image classifier builder\",bg=\"#48A099\",padx=505,pady=5)\n",
    "        self.welcome_label.pack()\n",
    "        self.classes_label = tk.Label(root, text=\"just enter classes name and we will build the model for you\",bg=\"#48A099\",padx=505,pady=1)\n",
    "        self.classes_label.pack()\n",
    "        \n",
    "        self.classes_label = tk.Label(root, text=\"Enter Classes Name (comma separated):\",pady=5)\n",
    "        self.classes_label.pack()\n",
    "\n",
    "        self.classes_entry = tk.Entry(root)\n",
    "        self.classes_entry.pack()\n",
    "\n",
    "        # Submit Button\n",
    "        self.submit_button = tk.Button(root, text=\"download dataset and create classifier for these classes\", command=self.create_classifier)\n",
    "        self.submit_button.pack()\n",
    "\n",
    "        # Upload Image for Testing\n",
    "        self.upload_button = tk.Button(root, text=\"Upload Image for Testing\", command=self.upload_image)\n",
    "        self.upload_button.pack()\n",
    "\n",
    "        # Display Image\n",
    "        self.image_label = tk.Label(root)\n",
    "        self.image_label.pack()\n",
    "\n",
    "        # Download Model Button\n",
    "        self.download_button = tk.Button(root, text=\"Download Model\", command=self.download_model)\n",
    "        self.download_button.pack()\n",
    "        \n",
    "#         upload model\n",
    "        self.upload_model_button = tk.Button(root, text=\"Upload Model\", command=self.upload_model)\n",
    "        self.upload_model_button.pack()\n",
    "    def upload_model(self):\n",
    "        print(path.parent)\n",
    "        self.learn = load_learner(path.parent/'export.pkl')\n",
    "        messagebox.showinfo(\"Info\",\"model uploaded\")\n",
    "    \n",
    "    def create_classifier(self):\n",
    "        # This is where you'll add code to create the classifier\n",
    "        class_names = self.classes_entry.get().split(',')\n",
    "        collect_data(class_names,10)\n",
    "        check_data()\n",
    "        dls = DataBlock(\n",
    "        blocks=(ImageBlock, CategoryBlock),\n",
    "        get_items=get_image_files,\n",
    "        splitter=RandomSplitter(valid_pct=0.2, seed=42),\n",
    "        get_y=parent_label,\n",
    "        item_tfms=Resize(192),\n",
    "\n",
    "        batch_tfms=aug_transforms(mult=2)\n",
    "        ).dataloaders(path)\n",
    "        self.learn = vision_learner(dls, resnet18, metrics=error_rate)\n",
    "        h = self.learn.fine_tune(3)\n",
    "        self.train_label = tk.Label(root, text=\"Enter Classes Name (comma separated):\")\n",
    "        self.train_label.pack()\n",
    "        messagebox.showinfo(\"Info\", f\"Classifier for  classes: {', '.join(class_names)} created!\")\n",
    "\n",
    "    def upload_image(self):\n",
    "        # This is where you'll handle the uploaded image\n",
    "        file_path = filedialog.askopenfilename()\n",
    "        if file_path:\n",
    "            img = Image.open(file_path)\n",
    "            img.thumbnail((250, 250))\n",
    "            uploaded_image = PILImage.create(img)\n",
    "            img = ImageTk.PhotoImage(img)\n",
    "            self.image_label.config(image=img)\n",
    "            self.image_label.image = img\n",
    "            \n",
    "            # You can add code here to test the uploaded image with your classifier\n",
    "            messagebox.showinfo(\"Info\",f\"prediction is {self.learn.predict(uploaded_image)}\")\n",
    "    def download_model(self):\n",
    "        # This is where you'll handle model downloading\n",
    "        self.learn.export()\n",
    "        messagebox.showinfo(\"Info\", \"Model downloaded successfully!\")\n",
    "\n",
    "if __name__ == \"__main__\":\n",
    "    root = tk.Tk()\n",
    "    set_centered(root,500,400)\n",
    "    app = ImageClassifierGUI(root)\n",
    "    root.mainloop()\n"
   ]
  },
  {
   "cell_type": "code",
   "execution_count": 132,
   "id": "b025416b",
   "metadata": {},
   "outputs": [
    {
     "data": {
      "text/html": [
       "\n",
       "<style>\n",
       "    /* Turns off some styling */\n",
       "    progress {\n",
       "        /* gets rid of default border in Firefox and Opera. */\n",
       "        border: none;\n",
       "        /* Needs to be in here for Safari polyfill so background images work as expected. */\n",
       "        background-size: auto;\n",
       "    }\n",
       "    progress:not([value]), progress:not([value])::-webkit-progress-bar {\n",
       "        background: repeating-linear-gradient(45deg, #7e7e7e, #7e7e7e 10px, #5c5c5c 10px, #5c5c5c 20px);\n",
       "    }\n",
       "    .progress-bar-interrupted, .progress-bar-interrupted::-webkit-progress-bar {\n",
       "        background: #F44336;\n",
       "    }\n",
       "</style>\n"
      ],
      "text/plain": [
       "<IPython.core.display.HTML object>"
      ]
     },
     "metadata": {},
     "output_type": "display_data"
    },
    {
     "data": {
      "text/html": [],
      "text/plain": [
       "<IPython.core.display.HTML object>"
      ]
     },
     "metadata": {},
     "output_type": "display_data"
    },
    {
     "data": {
      "text/html": [
       "\n",
       "<style>\n",
       "    /* Turns off some styling */\n",
       "    progress {\n",
       "        /* gets rid of default border in Firefox and Opera. */\n",
       "        border: none;\n",
       "        /* Needs to be in here for Safari polyfill so background images work as expected. */\n",
       "        background-size: auto;\n",
       "    }\n",
       "    progress:not([value]), progress:not([value])::-webkit-progress-bar {\n",
       "        background: repeating-linear-gradient(45deg, #7e7e7e, #7e7e7e 10px, #5c5c5c 10px, #5c5c5c 20px);\n",
       "    }\n",
       "    .progress-bar-interrupted, .progress-bar-interrupted::-webkit-progress-bar {\n",
       "        background: #F44336;\n",
       "    }\n",
       "</style>\n"
      ],
      "text/plain": [
       "<IPython.core.display.HTML object>"
      ]
     },
     "metadata": {},
     "output_type": "display_data"
    },
    {
     "data": {
      "text/html": [],
      "text/plain": [
       "<IPython.core.display.HTML object>"
      ]
     },
     "metadata": {},
     "output_type": "display_data"
    },
    {
     "data": {
      "text/html": [
       "\n",
       "<style>\n",
       "    /* Turns off some styling */\n",
       "    progress {\n",
       "        /* gets rid of default border in Firefox and Opera. */\n",
       "        border: none;\n",
       "        /* Needs to be in here for Safari polyfill so background images work as expected. */\n",
       "        background-size: auto;\n",
       "    }\n",
       "    progress:not([value]), progress:not([value])::-webkit-progress-bar {\n",
       "        background: repeating-linear-gradient(45deg, #7e7e7e, #7e7e7e 10px, #5c5c5c 10px, #5c5c5c 20px);\n",
       "    }\n",
       "    .progress-bar-interrupted, .progress-bar-interrupted::-webkit-progress-bar {\n",
       "        background: #F44336;\n",
       "    }\n",
       "</style>\n"
      ],
      "text/plain": [
       "<IPython.core.display.HTML object>"
      ]
     },
     "metadata": {},
     "output_type": "display_data"
    },
    {
     "data": {
      "text/html": [],
      "text/plain": [
       "<IPython.core.display.HTML object>"
      ]
     },
     "metadata": {},
     "output_type": "display_data"
    },
    {
     "data": {
      "text/html": [
       "\n",
       "<style>\n",
       "    /* Turns off some styling */\n",
       "    progress {\n",
       "        /* gets rid of default border in Firefox and Opera. */\n",
       "        border: none;\n",
       "        /* Needs to be in here for Safari polyfill so background images work as expected. */\n",
       "        background-size: auto;\n",
       "    }\n",
       "    progress:not([value]), progress:not([value])::-webkit-progress-bar {\n",
       "        background: repeating-linear-gradient(45deg, #7e7e7e, #7e7e7e 10px, #5c5c5c 10px, #5c5c5c 20px);\n",
       "    }\n",
       "    .progress-bar-interrupted, .progress-bar-interrupted::-webkit-progress-bar {\n",
       "        background: #F44336;\n",
       "    }\n",
       "</style>\n"
      ],
      "text/plain": [
       "<IPython.core.display.HTML object>"
      ]
     },
     "metadata": {},
     "output_type": "display_data"
    },
    {
     "data": {
      "text/html": [],
      "text/plain": [
       "<IPython.core.display.HTML object>"
      ]
     },
     "metadata": {},
     "output_type": "display_data"
    },
    {
     "data": {
      "text/html": [
       "\n",
       "<style>\n",
       "    /* Turns off some styling */\n",
       "    progress {\n",
       "        /* gets rid of default border in Firefox and Opera. */\n",
       "        border: none;\n",
       "        /* Needs to be in here for Safari polyfill so background images work as expected. */\n",
       "        background-size: auto;\n",
       "    }\n",
       "    progress:not([value]), progress:not([value])::-webkit-progress-bar {\n",
       "        background: repeating-linear-gradient(45deg, #7e7e7e, #7e7e7e 10px, #5c5c5c 10px, #5c5c5c 20px);\n",
       "    }\n",
       "    .progress-bar-interrupted, .progress-bar-interrupted::-webkit-progress-bar {\n",
       "        background: #F44336;\n",
       "    }\n",
       "</style>\n"
      ],
      "text/plain": [
       "<IPython.core.display.HTML object>"
      ]
     },
     "metadata": {},
     "output_type": "display_data"
    },
    {
     "data": {
      "text/html": [],
      "text/plain": [
       "<IPython.core.display.HTML object>"
      ]
     },
     "metadata": {},
     "output_type": "display_data"
    },
    {
     "data": {
      "text/html": [
       "\n",
       "<style>\n",
       "    /* Turns off some styling */\n",
       "    progress {\n",
       "        /* gets rid of default border in Firefox and Opera. */\n",
       "        border: none;\n",
       "        /* Needs to be in here for Safari polyfill so background images work as expected. */\n",
       "        background-size: auto;\n",
       "    }\n",
       "    progress:not([value]), progress:not([value])::-webkit-progress-bar {\n",
       "        background: repeating-linear-gradient(45deg, #7e7e7e, #7e7e7e 10px, #5c5c5c 10px, #5c5c5c 20px);\n",
       "    }\n",
       "    .progress-bar-interrupted, .progress-bar-interrupted::-webkit-progress-bar {\n",
       "        background: #F44336;\n",
       "    }\n",
       "</style>\n"
      ],
      "text/plain": [
       "<IPython.core.display.HTML object>"
      ]
     },
     "metadata": {},
     "output_type": "display_data"
    },
    {
     "data": {
      "text/html": [],
      "text/plain": [
       "<IPython.core.display.HTML object>"
      ]
     },
     "metadata": {},
     "output_type": "display_data"
    },
    {
     "data": {
      "text/html": [
       "\n",
       "<style>\n",
       "    /* Turns off some styling */\n",
       "    progress {\n",
       "        /* gets rid of default border in Firefox and Opera. */\n",
       "        border: none;\n",
       "        /* Needs to be in here for Safari polyfill so background images work as expected. */\n",
       "        background-size: auto;\n",
       "    }\n",
       "    progress:not([value]), progress:not([value])::-webkit-progress-bar {\n",
       "        background: repeating-linear-gradient(45deg, #7e7e7e, #7e7e7e 10px, #5c5c5c 10px, #5c5c5c 20px);\n",
       "    }\n",
       "    .progress-bar-interrupted, .progress-bar-interrupted::-webkit-progress-bar {\n",
       "        background: #F44336;\n",
       "    }\n",
       "</style>\n"
      ],
      "text/plain": [
       "<IPython.core.display.HTML object>"
      ]
     },
     "metadata": {},
     "output_type": "display_data"
    },
    {
     "data": {
      "text/html": [],
      "text/plain": [
       "<IPython.core.display.HTML object>"
      ]
     },
     "metadata": {},
     "output_type": "display_data"
    },
    {
     "data": {
      "text/html": [
       "\n",
       "<style>\n",
       "    /* Turns off some styling */\n",
       "    progress {\n",
       "        /* gets rid of default border in Firefox and Opera. */\n",
       "        border: none;\n",
       "        /* Needs to be in here for Safari polyfill so background images work as expected. */\n",
       "        background-size: auto;\n",
       "    }\n",
       "    progress:not([value]), progress:not([value])::-webkit-progress-bar {\n",
       "        background: repeating-linear-gradient(45deg, #7e7e7e, #7e7e7e 10px, #5c5c5c 10px, #5c5c5c 20px);\n",
       "    }\n",
       "    .progress-bar-interrupted, .progress-bar-interrupted::-webkit-progress-bar {\n",
       "        background: #F44336;\n",
       "    }\n",
       "</style>\n"
      ],
      "text/plain": [
       "<IPython.core.display.HTML object>"
      ]
     },
     "metadata": {},
     "output_type": "display_data"
    },
    {
     "data": {
      "text/html": [],
      "text/plain": [
       "<IPython.core.display.HTML object>"
      ]
     },
     "metadata": {},
     "output_type": "display_data"
    }
   ],
   "source": [
    "import tkinter as tk\n",
    "from tkinter import filedialog, messagebox\n",
    "from PIL import Image, ImageTk\n",
    "\n",
    "class ImageClassifierGUI:\n",
    "    def __init__(self, root):\n",
    "        self.root = root\n",
    "        self.root.title(\"Image Classifier\")\n",
    "\n",
    "        # Configure the root window background color\n",
    "        self.root.configure(bg=\"#E0F7FA\")\n",
    "\n",
    "        # Welcome Label\n",
    "        self.welcome_label = tk.Label(root, text=\"Welcome to Image Classifier Builder\", bg=\"#48A099\", fg=\"white\", font=(\"Arial\", 16, \"bold\"), padx=20, pady=10)\n",
    "        self.welcome_label.pack(fill=tk.X)\n",
    "\n",
    "        # Instruction Label\n",
    "        self.instruction_label = tk.Label(root, text=\"Just enter class names and we will build the model for you\", bg=\"#48A099\", fg=\"white\", font=(\"Arial\", 12), padx=20, pady=5)\n",
    "        self.instruction_label.pack(fill=tk.X)\n",
    "\n",
    "        # Classes Label\n",
    "        self.classes_label = tk.Label(root, text=\"Enter Class Names (comma separated):\", bg=\"#E0F7FA\", font=(\"Arial\", 12), pady=10)\n",
    "        self.classes_label.pack()\n",
    "\n",
    "        # Classes Entry\n",
    "        self.classes_entry = tk.Entry(root, font=(\"Arial\", 12), width=50)\n",
    "        self.classes_entry.pack(pady=(0, 15))\n",
    "\n",
    "        # Submit Button\n",
    "        self.submit_button = tk.Button(root, text=\"Download Dataset and Create Classifier\", command=self.create_classifier, bg=\"#4CAF50\", fg=\"white\", font=(\"Arial\", 12, \"bold\"), pady=5)\n",
    "        self.submit_button.pack(pady=5)\n",
    "\n",
    "        # Upload Image for Testing Button\n",
    "        self.upload_button = tk.Button(root, text=\"Upload Image for Testing\", command=self.upload_image, bg=\"#2196F3\", fg=\"white\", font=(\"Arial\", 12, \"bold\"), pady=5)\n",
    "        self.upload_button.pack(pady=5)\n",
    "\n",
    "        # Image Display Label\n",
    "        self.image_label = tk.Label(root, bg=\"#E0F7FA\")\n",
    "        self.image_label.pack(pady=10)\n",
    "\n",
    "        # Download and Upload Model Buttons\n",
    "        self.model_frame = tk.Frame(root, bg=\"#E0F7FA\")\n",
    "        self.model_frame.pack(pady=10)\n",
    "\n",
    "        self.download_button = tk.Button(self.model_frame, text=\"Download Model\", command=self.download_model, bg=\"#FF9800\", fg=\"white\", font=(\"Arial\", 12, \"bold\"), padx=10, pady=5)\n",
    "        self.download_button.pack(side=\"left\", padx=5)\n",
    "\n",
    "        self.upload_model_button = tk.Button(self.model_frame, text=\"Upload Model\", command=self.upload_model, bg=\"#F44336\", fg=\"white\", font=(\"Arial\", 12, \"bold\"), padx=10, pady=5)\n",
    "        self.upload_model_button.pack(side=\"right\", padx=5)\n",
    "\n",
    "    def upload_model(self):\n",
    "        self.learn = load_learner(path.parent/'export.pkl')\n",
    "        messagebox.showinfo(\"Info\", \"Model uploaded successfully!\")\n",
    "\n",
    "    def create_classifier(self):\n",
    "        # This is where you'll add code to create the classifier\n",
    "        class_names = self.classes_entry.get().split(',')\n",
    "        collect_data(class_names,10)\n",
    "        check_data()\n",
    "        dls = DataBlock(\n",
    "        blocks=(ImageBlock, CategoryBlock),\n",
    "        get_items=get_image_files,\n",
    "        splitter=RandomSplitter(valid_pct=0.2, seed=42),\n",
    "        get_y=parent_label,\n",
    "        item_tfms=Resize(192),\n",
    "\n",
    "        batch_tfms=aug_transforms(mult=2)\n",
    "        ).dataloaders(path)\n",
    "        self.learn = vision_learner(dls, resnet18, metrics=error_rate)\n",
    "        h = self.learn.fine_tune(3)\n",
    "        self.train_label = tk.Label(root, text=\"Enter Classes Name (comma separated):\")\n",
    "        self.train_label.pack()\n",
    "        messagebox.showinfo(\"Info\", f\"Classifier for  classes: {', '.join(class_names)} created!\")\n",
    "\n",
    "    def upload_image(self):\n",
    "        # This is where you'll handle the uploaded image\n",
    "        file_path = filedialog.askopenfilename()\n",
    "        if file_path:\n",
    "            img = Image.open(file_path)\n",
    "            img.thumbnail((250, 250))\n",
    "            uploaded_image = PILImage.create(img)\n",
    "            img = ImageTk.PhotoImage(img)\n",
    "            self.image_label.config(image=img)\n",
    "            self.image_label.image = img\n",
    "            \n",
    "            # You can add code here to test the uploaded image with your classifier\n",
    "            messagebox.showinfo(\"Info\",f\"prediction is {self.learn.predict(uploaded_image)}\")\n",
    "\n",
    "    def download_model(self):\n",
    "        self.learn.export()\n",
    "        messagebox.showinfo(\"Info\", \"Model downloaded successfully!\")\n",
    "\n",
    "if __name__ == \"__main__\":\n",
    "    root = tk.Tk()\n",
    "    root.geometry(\"600x600\")  # Set window size\n",
    "    app = ImageClassifierGUI(root)\n",
    "    root.mainloop()\n"
   ]
  }
 ],
 "metadata": {
  "kernelspec": {
   "display_name": "Python 3 (ipykernel)",
   "language": "python",
   "name": "python3"
  },
  "language_info": {
   "codemirror_mode": {
    "name": "ipython",
    "version": 3
   },
   "file_extension": ".py",
   "mimetype": "text/x-python",
   "name": "python",
   "nbconvert_exporter": "python",
   "pygments_lexer": "ipython3",
   "version": "3.9.12"
  }
 },
 "nbformat": 4,
 "nbformat_minor": 5
}

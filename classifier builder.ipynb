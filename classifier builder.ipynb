{
 "cells": [
  {
   "cell_type": "code",
   "execution_count": 14,
   "id": "15174954",
   "metadata": {},
   "outputs": [],
   "source": [
    "import duckduckgo_search as ddg # Make sure the function name is correctly spelled and capitalized\n",
    "from fastcore.all import *\n",
    "\n",
    "def search_images(term, max_images=200): return L(ddg.DDGS().images(term, max_results=max_images)).itemgot('image')"
   ]
  },
  {
   "cell_type": "code",
   "execution_count": 15,
   "id": "c7753bf5",
   "metadata": {},
   "outputs": [],
   "source": [
    "from fastdownload import download_url\n",
    "from fastai.vision.all import *"
   ]
  },
  {
   "cell_type": "code",
   "execution_count": 16,
   "id": "cdafeda4",
   "metadata": {},
   "outputs": [],
   "source": [
    "path = Path('dataset')\n",
    "from time import sleep\n",
    "def collect_data(searches,size):\n",
    "  for o in searches:\n",
    "      dest = (path/o)\n",
    "      dest.mkdir(exist_ok=True, parents=True)\n",
    "      download_images(dest, urls=search_images(f'{o} photo'))\n",
    "      resize_images(path/o, max_size=size, dest=path/o)"
   ]
  },
  {
   "cell_type": "code",
   "execution_count": 19,
   "id": "728add11",
   "metadata": {},
   "outputs": [],
   "source": [
    "def check_data():\n",
    "    failed = verify_images(get_image_files(path))\n",
    "    failed.map(Path.unlink)"
   ]
  },
  {
   "cell_type": "code",
   "execution_count": 32,
   "id": "650406ab",
   "metadata": {},
   "outputs": [],
   "source": [
    "def set_centered(root,window_width,window_height):\n",
    "    # get the screen dimension\n",
    "    screen_width = root.winfo_screenwidth()\n",
    "    screen_height = root.winfo_screenheight()\n",
    "\n",
    "    # find the center point\n",
    "    center_x = int(screen_width/2 - window_width / 2)\n",
    "    center_y = int(screen_height/2 - window_height / 2)\n",
    "\n",
    "    # set the position of the window to the center of the screen\n",
    "    root.geometry(f'{window_width}x{window_height}+{center_x}+{center_y}')"
   ]
  },
  {
   "cell_type": "code",
   "execution_count": 36,
   "id": "18df1cb4",
   "metadata": {},
   "outputs": [
    {
     "name": "stdout",
     "output_type": "stream",
     "text": [
      ".\n"
     ]
    }
   ],
   "source": [
    "import tkinter as tk\n",
    "from tkinter import filedialog\n",
    "from tkinter import messagebox\n",
    "from PIL import Image, ImageTk\n",
    "\n",
    "class ImageClassifierGUI:\n",
    "    def __init__(self, root):\n",
    "        self.root = root\n",
    "        self.root.title(\"Image Classifier\")\n",
    "\n",
    "        self.classes_label = tk.Label(root, text=\"Enter Class Names (comma separated):\")\n",
    "        self.classes_label.pack()\n",
    "\n",
    "        self.classes_entry = tk.Entry(root)\n",
    "        self.classes_entry.pack()\n",
    "\n",
    "        # Submit Button\n",
    "        self.submit_button = tk.Button(root, text=\"Submit\", command=self.create_classifier)\n",
    "        self.submit_button.pack()\n",
    "\n",
    "        # Upload Image for Testing\n",
    "        self.upload_button = tk.Button(root, text=\"Upload Image for Testing\", command=self.upload_image)\n",
    "        self.upload_button.pack()\n",
    "\n",
    "        # Display Image\n",
    "        self.image_label = tk.Label(root)\n",
    "        self.image_label.pack()\n",
    "\n",
    "        # Download Model Button\n",
    "        self.download_button = tk.Button(root, text=\"Download Model\", command=self.download_model)\n",
    "        self.download_button.pack()\n",
    "        \n",
    "#         upload model\n",
    "        self.upload_model_button = tk.Button(root, text=\"Upload Model\", command=self.upload_model)\n",
    "        self.upload_model_button.pack()\n",
    "    def upload_model(self):\n",
    "        print(path.parent)\n",
    "        self.learn = load_learner(path.parent/'export.pkl')\n",
    "        messagebox.showinfo(\"Info\",\"model uploaded\")\n",
    "    \n",
    "    def create_classifier(self):\n",
    "        # This is where you'll add code to create the classifier\n",
    "        class_names = self.classes_entry.get().split(',')\n",
    "        collect_data(class_names,10)\n",
    "        check_data()\n",
    "        dls = DataBlock(\n",
    "        blocks=(ImageBlock, CategoryBlock),\n",
    "        get_items=get_image_files,\n",
    "        splitter=RandomSplitter(valid_pct=0.2, seed=42),\n",
    "        get_y=parent_label,\n",
    "        item_tfms=Resize(192),\n",
    "\n",
    "        batch_tfms=aug_transforms(mult=2)\n",
    "        ).dataloaders(path)\n",
    "        self.learn = vision_learner(dls, resnet18, metrics=error_rate)\n",
    "        self.learn.fine_tune(3)\n",
    "        messagebox.showinfo(\"Info\", f\"Classifier for  classes: {', '.join(class_names)} created!\")\n",
    "\n",
    "    def upload_image(self):\n",
    "        # This is where you'll handle the uploaded image\n",
    "        file_path = filedialog.askopenfilename()\n",
    "        if file_path:\n",
    "            img = Image.open(file_path)\n",
    "            img.thumbnail((250, 250))\n",
    "            uploaded_image = PILImage.create(img)\n",
    "            img = ImageTk.PhotoImage(img)\n",
    "            self.image_label.config(image=img)\n",
    "            self.image_label.image = img\n",
    "            \n",
    "            # You can add code here to test the uploaded image with your classifier\n",
    "            messagebox.showinfo(\"Info\",f\"prediction is {self.learn.predict(uploaded_image)}\")\n",
    "    def download_model(self):\n",
    "        # This is where you'll handle model downloading\n",
    "        self.learn.export()\n",
    "        messagebox.showinfo(\"Info\", \"Model downloaded successfully!\")\n",
    "\n",
    "if __name__ == \"__main__\":\n",
    "    root = tk.Tk()\n",
    "    set_centered(root,500,300)\n",
    "    app = ImageClassifierGUI(root)\n",
    "    root.mainloop()\n"
   ]
  }
 ],
 "metadata": {
  "kernelspec": {
   "display_name": "Python 3 (ipykernel)",
   "language": "python",
   "name": "python3"
  },
  "language_info": {
   "codemirror_mode": {
    "name": "ipython",
    "version": 3
   },
   "file_extension": ".py",
   "mimetype": "text/x-python",
   "name": "python",
   "nbconvert_exporter": "python",
   "pygments_lexer": "ipython3",
   "version": "3.9.12"
  }
 },
 "nbformat": 4,
 "nbformat_minor": 5
}
